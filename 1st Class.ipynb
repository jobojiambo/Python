{
 "cells": [
  {
   "cell_type": "code",
   "execution_count": 2,
   "metadata": {},
   "outputs": [
    {
     "name": "stdout",
     "output_type": "stream",
     "text": [
      "Hello fellow learners, my name is Job from Kenya\n"
     ]
    }
   ],
   "source": [
    "print('Hello fellow learners, my name is Job from Kenya')"
   ]
  },
  {
   "cell_type": "code",
   "execution_count": null,
   "metadata": {},
   "outputs": [],
   "source": []
  },
  {
   "cell_type": "code",
   "execution_count": null,
   "metadata": {},
   "outputs": [],
   "source": []
  },
  {
   "cell_type": "code",
   "execution_count": 3,
   "metadata": {},
   "outputs": [
    {
     "name": "stdout",
     "output_type": "stream",
     "text": [
      "63\n"
     ]
    }
   ],
   "source": [
    "Age = 24\n",
    "Age = 50\n",
    "Age = Age + 13\n",
    "print(Age)"
   ]
  },
  {
   "cell_type": "code",
   "execution_count": 7,
   "metadata": {},
   "outputs": [
    {
     "name": "stdout",
     "output_type": "stream",
     "text": [
      "156\n",
      "26.0\n"
     ]
    }
   ],
   "source": [
    "age1 = 20\n",
    "Age2 = 24\n",
    "Age3 = 26\n",
    "Age4 = 27\n",
    "Age5 = 29\n",
    "Age6 = 30\n",
    "Summed_ages = age1 + Age2 + Age3 + Age4 + Age5 + Age6\n",
    "Mean_age = Summed_ages / 6\n",
    "print(Summed_ages)\n",
    "print(Mean_age)"
   ]
  },
  {
   "cell_type": "code",
   "execution_count": 45,
   "metadata": {},
   "outputs": [
    {
     "name": "stdout",
     "output_type": "stream",
     "text": [
      "20\n",
      "26\n",
      "24\n",
      "156\n",
      "26.0\n"
     ]
    }
   ],
   "source": [
    "Ages = [20, 24, 26, 27, 29, 30]\n",
    "print(ages[6])\n",
    "print(Ages[2])\n",
    "print(Ages[6-5])\n",
    "summed_ages = Ages[0] + Ages[1] + Ages[2] + Ages[3] + Ages[4] + Ages[5]\n",
    "print(summed_ages)\n",
    "mean_age = summed_ages /6\n",
    "print(mean_age)"
   ]
  },
  {
   "cell_type": "code",
   "execution_count": 47,
   "metadata": {},
   "outputs": [
    {
     "name": "stdout",
     "output_type": "stream",
     "text": [
      "176\n",
      "7\n",
      "25.142857142857142\n",
      "[20 24 26 27 29 30 20]\n"
     ]
    },
    {
     "data": {
      "text/plain": [
       "30"
      ]
     },
     "execution_count": 47,
     "metadata": {},
     "output_type": "execute_result"
    }
   ],
   "source": [
    "Ages = [20, 24, 26, 27, 29, 30, 20]\n",
    "Summed_ages = sum(Ages)\n",
    "print(Summed_ages)\n",
    "print(len(Ages))\n",
    "Mean_age = Summed_ages/len(Ages)\n",
    "print(Mean_age)\n",
    "\n",
    "\n",
    "import numpy as np\n",
    "ages = np.array(Ages)\n",
    "print(ages)\n",
    "ages.max()\n"
   ]
  },
  {
   "cell_type": "code",
   "execution_count": 38,
   "metadata": {},
   "outputs": [
    {
     "name": "stdout",
     "output_type": "stream",
     "text": [
      "4.0178174601214955 [20 24 26 27 29 30 20]\n"
     ]
    }
   ],
   "source": [
    "mean = ages.mean()\n",
    "dists = ages - mean\n",
    "dists = dists * dists\n",
    "summed_dists = np.sum(dists)\n",
    "Avg_dists = summed_dists/(len(ages)-1)\n",
    "std_dev = np.sqrt(Avg_dists)\n",
    "print(std_dev, ages)\n"
   ]
  },
  {
   "cell_type": "code",
   "execution_count": 39,
   "metadata": {},
   "outputs": [
    {
     "name": "stdout",
     "output_type": "stream",
     "text": [
      "3.719776161797582\n"
     ]
    }
   ],
   "source": [
    "std_dev = np.std(ages)\n",
    "print(std_dev)"
   ]
  },
  {
   "cell_type": "code",
   "execution_count": 10,
   "metadata": {},
   "outputs": [
    {
     "data": {
      "text/plain": [
       "<matplotlib.collections.PathCollection at 0x7fb57b880588>"
      ]
     },
     "execution_count": 10,
     "metadata": {},
     "output_type": "execute_result"
    },
    {
     "data": {
      "image/png": "[encoded data removed]",
      "text/plain": [
       "<Figure size 432x288 with 1 Axes>"
      ]
     },
     "metadata": {},
     "output_type": "display_data"
    }
   ],
   "source": [
    "import matplotlib.pyplot as cartesian\n",
    "xs = [40, 51, 63, 70, 87, 93]\n",
    "ys = [113, 99, 87, 81, 77, 72]\n",
    "zs = [14, 23, 31, 39, 47, 52]\n",
    "\n",
    "cartesian.scatter(xs, ys, zs)"
   ]
  },
  {
   "cell_type": "code",
   "execution_count": 5,
   "metadata": {},
   "outputs": [
    {
     "name": "stdout",
     "output_type": "stream",
     "text": [
      "56.0\n",
      "336\n",
      "25.839246635044656\n"
     ]
    }
   ],
   "source": [
    "years = [45, 56, 89, 22, 90, 34]\n",
    "summed_years = sum(years)\n",
    "mean_years = summed_years/len(years)\n",
    "print(mean_years)\n",
    "print(summed_years)\n",
    "import numpy as dat\n",
    "Std_Dev = dat.std(years)\n",
    "print(Std_Dev)"
   ]
  },
  {
   "cell_type": "code",
   "execution_count": 16,
   "metadata": {},
   "outputs": [
    {
     "data": {
      "text/plain": [
       "<matplotlib.collections.PathCollection at 0x7f860a7ecd30>"
      ]
     },
     "execution_count": 16,
     "metadata": {},
     "output_type": "execute_result"
    },
    {
     "data": {
      "image/png": "[encoded data removed]",
      "text/plain": [
       "<Figure size 432x288 with 1 Axes>"
      ]
     },
     "metadata": {},
     "output_type": "display_data"
    }
   ],
   "source": [
    "import matplotlib.pyplot as plot\n",
    "time_years = [12, 15, 18, 19, 21, 22, 25, 37, 44]\n",
    "population_000s = [13, 24, 33, 41, 49, 65, 73, 91, 104]\n",
    "plot.scatter(time_years, population_000s)\n",
    "plot.scatter(mean[0],mean[1])"
   ]
  },
  {
   "cell_type": "code",
   "execution_count": 22,
   "metadata": {},
   "outputs": [
    {
     "data": {
      "text/plain": [
       "<matplotlib.collections.PathCollection at 0x7f860ac63908>"
      ]
     },
     "execution_count": 22,
     "metadata": {},
     "output_type": "execute_result"
    },
    {
     "data": {
      "image/png": "[encoded data removed]",
      "text/plain": [
       "<Figure size 432x288 with 1 Axes>"
      ]
     },
     "metadata": {},
     "output_type": "display_data"
    }
   ],
   "source": [
    "import numpy as np\n",
    "xs = [40, 51, 63, 70, 87, 93]\n",
    "ys = [113, 99, 87, 81, 77, 72]\n",
    "xys = [[40, 113], [51, 99], [63, 87], [70, 81], [87, 77], [93, 72]]\n",
    "xys = np.array(xys)\n",
    "import matplotlib.pyplot as plt\n",
    "plt.scatter(xys[:,0], xys[:,1])\n",
    "plt.scatter(mean[0], mean[1])"
   ]
  },
  {
   "cell_type": "code",
   "execution_count": 10,
   "metadata": {},
   "outputs": [
    {
     "name": "stdout",
     "output_type": "stream",
     "text": [
      "[2 4 6]\n",
      "[1.5 3.5 5.5]\n"
     ]
    }
   ],
   "source": [
    "data = [[1, 2], [3, 4], [5, 6]]\n",
    "data = np.array(data)\n",
    "print(data[:, -1])\n",
    "mean = np.mean(data, 1)\n",
    "print(mean)"
   ]
  },
  {
   "cell_type": "code",
   "execution_count": 7,
   "metadata": {},
   "outputs": [
    {
     "name": "stdout",
     "output_type": "stream",
     "text": [
      "hello World\n"
     ]
    }
   ],
   "source": [
    "print('hello World')"
   ]
  },
  {
   "cell_type": "code",
   "execution_count": 34,
   "metadata": {},
   "outputs": [
    {
     "name": "stdout",
     "output_type": "stream",
     "text": [
      "36.9297380921603\n"
     ]
    },
    {
     "data": {
      "image/png": "[encoded data removed]",
      "text/plain": [
       "<Figure size 432x288 with 1 Axes>"
      ]
     },
     "metadata": {},
     "output_type": "display_data"
    },
    {
     "data": {
      "image/png": "[encoded data removed]",
      "text/plain": [
       "<Figure size 432x288 with 1 Axes>"
      ]
     },
     "metadata": {},
     "output_type": "display_data"
    }
   ],
   "source": [
    "import numpy as np\n",
    "xys = [[40, 113], [51, 99], [63, 87], [70, 81], [87, 77], [93, 72]]\n",
    "xys = np.array(xys)\n",
    "import matplotlib.pyplot as plt\n",
    "\n",
    "import matplotlib.patches as patches\n",
    "\n",
    "plt.scatter(mean[0], mean[1])\n",
    "std_dev = np.std(xys,0)\n",
    "ellipse =patches.Ellipse([mean[0], mean[1]], std_dev[0]*2, std_dev[1]*2, alpha=0.25)\n",
    "fig,graph = plt.subplots()\n",
    "graph.scatter(xys[:,0], xys[:,1])\n",
    "graph.scatter(mean[0], mean[1])\n",
    "graph.add_patch(ellipse)\n",
    "\n",
    "dist = np.linalg.norm(xys[0] - mean)\n",
    "print(dist)\n",
    "\n"
   ]
  },
  {
   "cell_type": "code",
   "execution_count": 32,
   "metadata": {},
   "outputs": [
    {
     "name": "stdout",
     "output_type": "stream",
     "text": [
      "22.5 87.5\n"
     ]
    },
    {
     "data": {
      "text/plain": [
       "<matplotlib.collections.PathCollection at 0x7f860ac59c18>"
      ]
     },
     "execution_count": 32,
     "metadata": {},
     "output_type": "execute_result"
    },
    {
     "data": {
      "image/png": "[encoded data removed]",
      "text/plain": [
       "<Figure size 432x288 with 1 Axes>"
      ]
     },
     "metadata": {},
     "output_type": "display_data"
    }
   ],
   "source": [
    "import numpy as population_data\n",
    "axs = [[10, 100], [15, 95], [20, 90], [25, 85], [30, 80], [35, 75]]\n",
    "axs = population_data.array(axs)\n",
    "import matplotlib.pyplot as graph\n",
    "graph.scatter(axs[:, 0], axs[:,1])\n",
    "a_mean = np.mean(axs[:,0])\n",
    "x_mean = np.mean(axs[:,1])\n",
    "print(a_mean, x_mean)\n",
    "graph.scatter(mean[0], mean[1])"
   ]
  },
  {
   "cell_type": "code",
   "execution_count": 24,
   "metadata": {},
   "outputs": [
    {
     "name": "stdout",
     "output_type": "stream",
     "text": [
      "[20. 21.]\n"
     ]
    },
    {
     "data": {
      "image/png": "[encoded data removed]",
      "text/plain": [
       "<Figure size 432x288 with 1 Axes>"
      ]
     },
     "metadata": {},
     "output_type": "display_data"
    }
   ],
   "source": [
    "import numpy as gross\n",
    "tgs = [[11, 12], [13, 14], [15, 16], [17, 18], [19, 20], [21, 22], [23, 24], [25, 26], [27, 28], [29, 30]]\n",
    "tgs = gross.array(tgs)\n",
    "import matplotlib.pyplot as gross\n",
    "gross.scatter(tgs[:, 0], tgs[:, 1])\n",
    "gross.scatter(mean[0],mean[1])\n",
    "meam = np.mean(tgs, 0)\n",
    "print(meam)\n"
   ]
  },
  {
   "cell_type": "code",
   "execution_count": 21,
   "metadata": {},
   "outputs": [
    {
     "name": "stdout",
     "output_type": "stream",
     "text": [
      "[7, 9, 11, 13]\n"
     ]
    }
   ],
   "source": [
    "a = [2, 4,6,8] \n",
    "b = [item + 5 for item in a]\n",
    "print(b)\n"
   ]
  },
  {
   "cell_type": "code",
   "execution_count": 26,
   "metadata": {},
   "outputs": [
    {
     "name": "stdout",
     "output_type": "stream",
     "text": [
      "[36.9297380921603, 19.59946144384811, 4.487637339278749, 7.6467131646363145, 22.615751639559154, 30.3337912053355]\n",
      "72 113\n",
      "[-0.7804878  -0.51219512 -0.2195122  -0.04878049  0.36585366  0.51219512]\n"
     ]
    }
   ],
   "source": [
    "import numpy as np\n",
    "xys = [[40, 113], [51, 99], [63, 87], [70, 81], [87, 77], [93, 72]]\n",
    "xys = np.array(xys)\n",
    "mean = np.mean(xys, 0)\n",
    "import matplotlib.pyplot as plt\n",
    "xys = np.array(xys)\n",
    "dist = np.linalg.norm(xys[1] - mean)\n",
    "dists = [np.linalg.norm(xy - mean) for xy in xys]\n",
    "print(dists)\n",
    "x_min = np.min(xys[:,1])\n",
    "x_max = np.max(xys[:,1])\n",
    "print(x_min, x_max)\n",
    "normed_x = (xys[:,0] - x_min)/(x_max - x_min)\n",
    "normed_x = np.array(normed_x)\n",
    "print(normed_x)"
   ]
  },
  {
   "cell_type": "code",
   "execution_count": 27,
   "metadata": {},
   "outputs": [
    {
     "name": "stdout",
     "output_type": "stream",
     "text": [
      "[[0.         1.        ]\n",
      " [0.20754717 0.65853659]\n",
      " [0.43396226 0.36585366]\n",
      " [0.56603774 0.2195122 ]\n",
      " [0.88679245 0.12195122]\n",
      " [1.         0.        ]]\n"
     ]
    }
   ],
   "source": [
    "import numpy as np\n",
    "xys = [[40, 113], [51, 99], [63, 87], [70, 81], [87, 77], [93, 72]]\n",
    "xys = np.array(xys)\n",
    "min = np.min(xys, 0)\n",
    "max = np.max(xys, 0)\n",
    "normed = (xys - min)/(max - min)\n",
    "print(normed)"
   ]
  },
  {
   "cell_type": "code",
   "execution_count": 38,
   "metadata": {},
   "outputs": [
    {
     "name": "stdout",
     "output_type": "stream",
     "text": [
      "[76.5 75.  75.  75.5 82.  82.5]\n"
     ]
    }
   ],
   "source": [
    "import numpy as np\n",
    "data = [[40, 113], [51, 99], [63, 87], [70, 81], [87, 77], [93, 72]]\n",
    "mean = np.mean(data, 1)\n",
    "print(mean)\n"
   ]
  },
  {
   "cell_type": "code",
   "execution_count": 29,
   "metadata": {},
   "outputs": [
    {
     "name": "stdout",
     "output_type": "stream",
     "text": [
      "119.32748957076421\n"
     ]
    },
    {
     "data": {
      "image/png": "[encoded data removed]",
      "text/plain": [
       "<Figure size 432x288 with 1 Axes>"
      ]
     },
     "metadata": {},
     "output_type": "display_data"
    },
    {
     "data": {
      "image/png": "[encoded data removed]",
      "text/plain": [
       "<Figure size 432x288 with 1 Axes>"
      ]
     },
     "metadata": {},
     "output_type": "display_data"
    }
   ],
   "source": [
    "import numpy as np\n",
    "xys = [[40, 113], [51, 99], [63, 87], [70, 81], [87, 77], [93, 72]]\n",
    "xys = np.array(xys)\n",
    "import matplotlib.pyplot as plt\n",
    "mean = np.mean(normed, 0)\n",
    "import matplotlib.patches as patches\n",
    "\n",
    "plt.scatter(mean[0], mean[1])\n",
    "std_dev = np.std(normed,0)\n",
    "ellipse =patches.Ellipse([mean[0], mean[1]], std_dev[0]*2, std_dev[1]*2, alpha=0.25)\n",
    "fig,graph = plt.subplots()\n",
    "graph.scatter(normed[:,0], normed[:,1])\n",
    "graph.scatter(mean[0], mean[1])\n",
    "graph.add_patch(ellipse)\n",
    "\n",
    "dist = np.linalg.norm(xys[0] - mean)\n",
    "print(dist)\n",
    "\n"
   ]
  },
  {
   "cell_type": "code",
   "execution_count": null,
   "metadata": {},
   "outputs": [],
   "source": []
  }
 ],
 "metadata": {
  "kernelspec": {
   "display_name": "Python 3",
   "language": "python",
   "name": "python3"
  },
  "language_info": {
   "codemirror_mode": {
    "name": "ipython",
    "version": 3
   },
   "file_extension": ".py",
   "mimetype": "text/x-python",
   "name": "python",
   "nbconvert_exporter": "python",
   "pygments_lexer": "ipython3",
   "version": "3.6.3"
  }
 },
 "nbformat": 4,
 "nbformat_minor": 2
}
