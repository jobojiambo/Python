{
 "cells": [
  {
   "cell_type": "code",
   "execution_count": 1,
   "metadata": {},
   "outputs": [],
   "source": [
    "import pandas as pd\n",
    "my_data = pd.read_csv('happyscore_income.csv')"
   ]
  },
  {
   "cell_type": "code",
   "execution_count": 14,
   "metadata": {},
   "outputs": [
    {
     "data": {
      "text/plain": [
       "Text(1.05351,5109.4,'Argentina')"
      ]
     },
     "execution_count": 14,
     "metadata": {},
     "output_type": "execute_result"
    },
    {
     "data": {
      "image/png": "[encoded data removed]",
      "text/plain": [
       "<Figure size 432x288 with 1 Axes>"
      ]
     },
     "metadata": {},
     "output_type": "display_data"
    }
   ],
   "source": [
    "my_data.sort_values('median_income', inplace = True)\n",
    "my_data.sort_values('GDP', inplace = True)\n",
    "my_data\n",
    "rich = my_data[my_data['median_income']>5000] \n",
    "richest\n",
    "import matplotlib.pyplot as plt\n",
    "plt.scatter(rich['GDP'],rich['median_income'])\n",
    "plt.text(rich.iloc[-1]['GDP'],\n",
    "        rich.iloc[-1]['median_income'],\n",
    "        rich.iloc[-1]['country']\n",
    "        )\n",
    "plt.text(rich.iloc[0]['GDP'],\n",
    "        rich.iloc[0]['median_income'],\n",
    "        rich.iloc[0]['country']\n",
    "        )\n"
   ]
  },
  {
   "cell_type": "markdown",
   "metadata": {},
   "source": [
    "richest = my_data[my_data['median_income']>20000] \n",
    "richest"
   ]
  },
  {
   "cell_type": "markdown",
   "metadata": {},
   "source": [
    "richest = my_data[my_data[median_income]>20000]\n",
    "richest"
   ]
  },
  {
   "cell_type": "code",
   "execution_count": null,
   "metadata": {},
   "outputs": [],
   "source": []
  }
 ],
 "metadata": {
  "kernelspec": {
   "display_name": "Python 3",
   "language": "python",
   "name": "python3"
  },
  "language_info": {
   "codemirror_mode": {
    "name": "ipython",
    "version": 3
   },
   "file_extension": ".py",
   "mimetype": "text/x-python",
   "name": "python",
   "nbconvert_exporter": "python",
   "pygments_lexer": "ipython3",
   "version": "3.6.3"
  }
 },
 "nbformat": 4,
 "nbformat_minor": 2
}
